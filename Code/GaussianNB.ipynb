{
 "cells": [
  {
   "cell_type": "code",
   "execution_count": 1,
   "metadata": {},
   "outputs": [],
   "source": [
    "import pandas as pd\n",
    "import seaborn as sns\n",
    "from random import shuffle\n",
    "from sklearn.model_selection import train_test_split\n",
    "from sklearn.model_selection import cross_validate\n",
    "import numpy as np"
   ]
  },
  {
   "cell_type": "code",
   "execution_count": 2,
   "metadata": {},
   "outputs": [],
   "source": [
    "MalwareDataset = pd.read_csv(\"Malware_dataset.csv\") \n",
    "MalwareDataset=MalwareDataset.sample(frac=1)"
   ]
  },
  {
   "cell_type": "code",
   "execution_count": 3,
   "metadata": {},
   "outputs": [
    {
     "name": "stdout",
     "output_type": "stream",
     "text": [
      "(100000, 35)\n"
     ]
    }
   ],
   "source": [
    "print(MalwareDataset.shape)"
   ]
  },
  {
   "cell_type": "code",
   "execution_count": 4,
   "metadata": {},
   "outputs": [
    {
     "data": {
      "text/html": [
       "<div>\n",
       "<style scoped>\n",
       "    .dataframe tbody tr th:only-of-type {\n",
       "        vertical-align: middle;\n",
       "    }\n",
       "\n",
       "    .dataframe tbody tr th {\n",
       "        vertical-align: top;\n",
       "    }\n",
       "\n",
       "    .dataframe thead th {\n",
       "        text-align: right;\n",
       "    }\n",
       "</style>\n",
       "<table border=\"1\" class=\"dataframe\">\n",
       "  <thead>\n",
       "    <tr style=\"text-align: right;\">\n",
       "      <th></th>\n",
       "      <th>hash</th>\n",
       "      <th>millisecond</th>\n",
       "      <th>classification</th>\n",
       "      <th>state</th>\n",
       "      <th>usage_counter</th>\n",
       "      <th>prio</th>\n",
       "      <th>static_prio</th>\n",
       "      <th>normal_prio</th>\n",
       "      <th>policy</th>\n",
       "      <th>vm_pgoff</th>\n",
       "      <th>...</th>\n",
       "      <th>nivcsw</th>\n",
       "      <th>min_flt</th>\n",
       "      <th>maj_flt</th>\n",
       "      <th>fs_excl_counter</th>\n",
       "      <th>lock</th>\n",
       "      <th>utime</th>\n",
       "      <th>stime</th>\n",
       "      <th>gtime</th>\n",
       "      <th>cgtime</th>\n",
       "      <th>signal_nvcsw</th>\n",
       "    </tr>\n",
       "  </thead>\n",
       "  <tbody>\n",
       "    <tr>\n",
       "      <td>74413</td>\n",
       "      <td>6e222eabc2ef5f8077c379f3b4da0e77bd0bca71b7e032...</td>\n",
       "      <td>413</td>\n",
       "      <td>malware</td>\n",
       "      <td>0</td>\n",
       "      <td>0</td>\n",
       "      <td>3069657088</td>\n",
       "      <td>14747</td>\n",
       "      <td>0</td>\n",
       "      <td>0</td>\n",
       "      <td>0</td>\n",
       "      <td>...</td>\n",
       "      <td>53</td>\n",
       "      <td>1</td>\n",
       "      <td>120</td>\n",
       "      <td>2</td>\n",
       "      <td>3204448256</td>\n",
       "      <td>378994</td>\n",
       "      <td>4</td>\n",
       "      <td>1</td>\n",
       "      <td>0</td>\n",
       "      <td>0</td>\n",
       "    </tr>\n",
       "    <tr>\n",
       "      <td>67928</td>\n",
       "      <td>2e4c54588cca3be3ae471b4b9b531ed2a70b2d336688fe...</td>\n",
       "      <td>928</td>\n",
       "      <td>malware</td>\n",
       "      <td>1032192</td>\n",
       "      <td>0</td>\n",
       "      <td>3069726720</td>\n",
       "      <td>22153</td>\n",
       "      <td>0</td>\n",
       "      <td>0</td>\n",
       "      <td>0</td>\n",
       "      <td>...</td>\n",
       "      <td>4</td>\n",
       "      <td>0</td>\n",
       "      <td>114</td>\n",
       "      <td>0</td>\n",
       "      <td>3204448256</td>\n",
       "      <td>381061</td>\n",
       "      <td>4</td>\n",
       "      <td>0</td>\n",
       "      <td>0</td>\n",
       "      <td>0</td>\n",
       "    </tr>\n",
       "    <tr>\n",
       "      <td>84970</td>\n",
       "      <td>54b860b1c538d915a68a1980afd25c029458ade80e4175...</td>\n",
       "      <td>970</td>\n",
       "      <td>malware</td>\n",
       "      <td>1044480</td>\n",
       "      <td>0</td>\n",
       "      <td>3069480960</td>\n",
       "      <td>22191</td>\n",
       "      <td>0</td>\n",
       "      <td>0</td>\n",
       "      <td>0</td>\n",
       "      <td>...</td>\n",
       "      <td>25</td>\n",
       "      <td>1</td>\n",
       "      <td>114</td>\n",
       "      <td>2</td>\n",
       "      <td>3204448256</td>\n",
       "      <td>401823</td>\n",
       "      <td>5</td>\n",
       "      <td>1</td>\n",
       "      <td>0</td>\n",
       "      <td>0</td>\n",
       "    </tr>\n",
       "    <tr>\n",
       "      <td>51765</td>\n",
       "      <td>com.ludia.familyfeudblitz.apk</td>\n",
       "      <td>765</td>\n",
       "      <td>benign</td>\n",
       "      <td>0</td>\n",
       "      <td>0</td>\n",
       "      <td>3069292544</td>\n",
       "      <td>15849</td>\n",
       "      <td>0</td>\n",
       "      <td>0</td>\n",
       "      <td>0</td>\n",
       "      <td>...</td>\n",
       "      <td>0</td>\n",
       "      <td>1</td>\n",
       "      <td>120</td>\n",
       "      <td>0</td>\n",
       "      <td>3204448256</td>\n",
       "      <td>376490</td>\n",
       "      <td>3</td>\n",
       "      <td>0</td>\n",
       "      <td>0</td>\n",
       "      <td>0</td>\n",
       "    </tr>\n",
       "    <tr>\n",
       "      <td>44706</td>\n",
       "      <td>com.fingerprintplay.bysbaseball2015.apk</td>\n",
       "      <td>706</td>\n",
       "      <td>benign</td>\n",
       "      <td>0</td>\n",
       "      <td>0</td>\n",
       "      <td>3069390848</td>\n",
       "      <td>26742</td>\n",
       "      <td>0</td>\n",
       "      <td>0</td>\n",
       "      <td>0</td>\n",
       "      <td>...</td>\n",
       "      <td>3</td>\n",
       "      <td>0</td>\n",
       "      <td>114</td>\n",
       "      <td>0</td>\n",
       "      <td>3204448256</td>\n",
       "      <td>395578</td>\n",
       "      <td>4</td>\n",
       "      <td>1</td>\n",
       "      <td>0</td>\n",
       "      <td>0</td>\n",
       "    </tr>\n",
       "  </tbody>\n",
       "</table>\n",
       "<p>5 rows × 35 columns</p>\n",
       "</div>"
      ],
      "text/plain": [
       "                                                    hash  millisecond  \\\n",
       "74413  6e222eabc2ef5f8077c379f3b4da0e77bd0bca71b7e032...          413   \n",
       "67928  2e4c54588cca3be3ae471b4b9b531ed2a70b2d336688fe...          928   \n",
       "84970  54b860b1c538d915a68a1980afd25c029458ade80e4175...          970   \n",
       "51765                      com.ludia.familyfeudblitz.apk          765   \n",
       "44706            com.fingerprintplay.bysbaseball2015.apk          706   \n",
       "\n",
       "      classification    state  usage_counter        prio  static_prio  \\\n",
       "74413        malware        0              0  3069657088        14747   \n",
       "67928        malware  1032192              0  3069726720        22153   \n",
       "84970        malware  1044480              0  3069480960        22191   \n",
       "51765         benign        0              0  3069292544        15849   \n",
       "44706         benign        0              0  3069390848        26742   \n",
       "\n",
       "       normal_prio  policy  vm_pgoff  ...  nivcsw  min_flt  maj_flt  \\\n",
       "74413            0       0         0  ...      53        1      120   \n",
       "67928            0       0         0  ...       4        0      114   \n",
       "84970            0       0         0  ...      25        1      114   \n",
       "51765            0       0         0  ...       0        1      120   \n",
       "44706            0       0         0  ...       3        0      114   \n",
       "\n",
       "       fs_excl_counter        lock   utime  stime  gtime  cgtime  signal_nvcsw  \n",
       "74413                2  3204448256  378994      4      1       0             0  \n",
       "67928                0  3204448256  381061      4      0       0             0  \n",
       "84970                2  3204448256  401823      5      1       0             0  \n",
       "51765                0  3204448256  376490      3      0       0             0  \n",
       "44706                0  3204448256  395578      4      1       0             0  \n",
       "\n",
       "[5 rows x 35 columns]"
      ]
     },
     "execution_count": 4,
     "metadata": {},
     "output_type": "execute_result"
    }
   ],
   "source": [
    "MalwareDataset.head()"
   ]
  },
  {
   "cell_type": "code",
   "execution_count": 5,
   "metadata": {},
   "outputs": [
    {
     "name": "stdout",
     "output_type": "stream",
     "text": [
      "Index(['hash', 'millisecond', 'classification', 'state', 'usage_counter',\n",
      "       'prio', 'static_prio', 'normal_prio', 'policy', 'vm_pgoff',\n",
      "       'vm_truncate_count', 'task_size', 'cached_hole_size', 'free_area_cache',\n",
      "       'mm_users', 'map_count', 'hiwater_rss', 'total_vm', 'shared_vm',\n",
      "       'exec_vm', 'reserved_vm', 'nr_ptes', 'end_data', 'last_interval',\n",
      "       'nvcsw', 'nivcsw', 'min_flt', 'maj_flt', 'fs_excl_counter', 'lock',\n",
      "       'utime', 'stime', 'gtime', 'cgtime', 'signal_nvcsw'],\n",
      "      dtype='object')\n"
     ]
    }
   ],
   "source": [
    "malware=print(MalwareDataset.columns)"
   ]
  },
  {
   "cell_type": "code",
   "execution_count": 6,
   "metadata": {},
   "outputs": [],
   "source": [
    "data=MalwareDataset.drop([\"hash\",\"classification\"], axis=1)"
   ]
  },
  {
   "cell_type": "code",
   "execution_count": 7,
   "metadata": {},
   "outputs": [
    {
     "name": "stdout",
     "output_type": "stream",
     "text": [
      "Index(['millisecond', 'state', 'usage_counter', 'prio', 'static_prio',\n",
      "       'normal_prio', 'policy', 'vm_pgoff', 'vm_truncate_count', 'task_size',\n",
      "       'cached_hole_size', 'free_area_cache', 'mm_users', 'map_count',\n",
      "       'hiwater_rss', 'total_vm', 'shared_vm', 'exec_vm', 'reserved_vm',\n",
      "       'nr_ptes', 'end_data', 'last_interval', 'nvcsw', 'nivcsw', 'min_flt',\n",
      "       'maj_flt', 'fs_excl_counter', 'lock', 'utime', 'stime', 'gtime',\n",
      "       'cgtime', 'signal_nvcsw'],\n",
      "      dtype='object')\n"
     ]
    }
   ],
   "source": [
    "print(data.columns)"
   ]
  },
  {
   "cell_type": "code",
   "execution_count": 8,
   "metadata": {},
   "outputs": [],
   "source": [
    "target=MalwareDataset.drop(['hash', 'millisecond', 'state', 'usage_counter', 'prio', 'static_prio',\n",
    "       'normal_prio', 'policy', 'vm_pgoff', 'vm_truncate_count', 'task_size',\n",
    "       'cached_hole_size', 'free_area_cache', 'mm_users', 'map_count',\n",
    "       'hiwater_rss', 'total_vm', 'shared_vm', 'exec_vm', 'reserved_vm',\n",
    "       'nr_ptes', 'end_data', 'last_interval', 'nvcsw', 'nivcsw', 'min_flt',\n",
    "       'maj_flt', 'fs_excl_counter', 'lock', 'utime', 'stime', 'gtime',\n",
    "       'cgtime', 'signal_nvcsw'], axis=1)"
   ]
  },
  {
   "cell_type": "code",
   "execution_count": 9,
   "metadata": {},
   "outputs": [
    {
     "name": "stdout",
     "output_type": "stream",
     "text": [
      "(100000, 1)\n",
      "Index(['classification'], dtype='object')\n"
     ]
    }
   ],
   "source": [
    "print(target.shape)\n",
    "print(target.columns)"
   ]
  },
  {
   "cell_type": "code",
   "execution_count": 10,
   "metadata": {},
   "outputs": [
    {
     "data": {
      "text/html": [
       "<div>\n",
       "<style scoped>\n",
       "    .dataframe tbody tr th:only-of-type {\n",
       "        vertical-align: middle;\n",
       "    }\n",
       "\n",
       "    .dataframe tbody tr th {\n",
       "        vertical-align: top;\n",
       "    }\n",
       "\n",
       "    .dataframe thead th {\n",
       "        text-align: right;\n",
       "    }\n",
       "</style>\n",
       "<table border=\"1\" class=\"dataframe\">\n",
       "  <thead>\n",
       "    <tr style=\"text-align: right;\">\n",
       "      <th></th>\n",
       "      <th>classification</th>\n",
       "    </tr>\n",
       "  </thead>\n",
       "  <tbody>\n",
       "    <tr>\n",
       "      <td>74413</td>\n",
       "      <td>malware</td>\n",
       "    </tr>\n",
       "    <tr>\n",
       "      <td>67928</td>\n",
       "      <td>malware</td>\n",
       "    </tr>\n",
       "    <tr>\n",
       "      <td>84970</td>\n",
       "      <td>malware</td>\n",
       "    </tr>\n",
       "    <tr>\n",
       "      <td>51765</td>\n",
       "      <td>benign</td>\n",
       "    </tr>\n",
       "    <tr>\n",
       "      <td>44706</td>\n",
       "      <td>benign</td>\n",
       "    </tr>\n",
       "  </tbody>\n",
       "</table>\n",
       "</div>"
      ],
      "text/plain": [
       "      classification\n",
       "74413        malware\n",
       "67928        malware\n",
       "84970        malware\n",
       "51765         benign\n",
       "44706         benign"
      ]
     },
     "execution_count": 10,
     "metadata": {},
     "output_type": "execute_result"
    }
   ],
   "source": [
    "target.head()"
   ]
  },
  {
   "cell_type": "code",
   "execution_count": 11,
   "metadata": {},
   "outputs": [],
   "source": [
    "target=target.classification.map({'benign':0, 'malware':1})"
   ]
  },
  {
   "cell_type": "code",
   "execution_count": 12,
   "metadata": {},
   "outputs": [
    {
     "data": {
      "text/plain": [
       "74413    1\n",
       "67928    1\n",
       "84970    1\n",
       "51765    0\n",
       "44706    0\n",
       "Name: classification, dtype: int64"
      ]
     },
     "execution_count": 12,
     "metadata": {},
     "output_type": "execute_result"
    }
   ],
   "source": [
    "target.head()"
   ]
  },
  {
   "cell_type": "code",
   "execution_count": 13,
   "metadata": {},
   "outputs": [],
   "source": [
    "train_data,test_data,train_target,test_target=train_test_split(data,target,test_size=0.33)"
   ]
  },
  {
   "cell_type": "code",
   "execution_count": 14,
   "metadata": {},
   "outputs": [
    {
     "data": {
      "text/plain": [
       "GaussianNB(priors=None, var_smoothing=1e-09)"
      ]
     },
     "execution_count": 14,
     "metadata": {},
     "output_type": "execute_result"
    }
   ],
   "source": [
    "from sklearn.naive_bayes import GaussianNB\n",
    "clf=GaussianNB()\n",
    "clf.fit(train_data, train_target)"
   ]
  },
  {
   "cell_type": "code",
   "execution_count": 15,
   "metadata": {},
   "outputs": [
    {
     "name": "stdout",
     "output_type": "stream",
     "text": [
      "The score of GaussianNB Algorithm is 61.91492537313433\n"
     ]
    }
   ],
   "source": [
    "score = clf.score(train_data, train_target)\n",
    "print(\"The score of GaussianNB Algorithm is\", score*100)"
   ]
  },
  {
   "cell_type": "code",
   "execution_count": 16,
   "metadata": {},
   "outputs": [],
   "source": [
    "#Testing the model\n",
    "Result=clf.predict(test_data) "
   ]
  },
  {
   "cell_type": "code",
   "execution_count": 17,
   "metadata": {},
   "outputs": [
    {
     "name": "stdout",
     "output_type": "stream",
     "text": [
      "Accuracy: 0.6172727272727273\n"
     ]
    }
   ],
   "source": [
    "#accuracy score=(no.of correct predictions/no.of total predictions)\n",
    "\n",
    "from sklearn.metrics import accuracy_score\n",
    "accuracy=accuracy_score(test_target,Result)\n",
    "\n",
    "print(\"Accuracy:\",accuracy)"
   ]
  },
  {
   "cell_type": "code",
   "execution_count": 18,
   "metadata": {},
   "outputs": [],
   "source": [
    "table=pd.DataFrame({\n",
    "    \"Actual_Value\":test_target,\n",
    "    \"Predict_Value\":Result\n",
    "})\n"
   ]
  },
  {
   "cell_type": "code",
   "execution_count": 19,
   "metadata": {},
   "outputs": [
    {
     "data": {
      "text/html": [
       "<div>\n",
       "<style scoped>\n",
       "    .dataframe tbody tr th:only-of-type {\n",
       "        vertical-align: middle;\n",
       "    }\n",
       "\n",
       "    .dataframe tbody tr th {\n",
       "        vertical-align: top;\n",
       "    }\n",
       "\n",
       "    .dataframe thead th {\n",
       "        text-align: right;\n",
       "    }\n",
       "</style>\n",
       "<table border=\"1\" class=\"dataframe\">\n",
       "  <thead>\n",
       "    <tr style=\"text-align: right;\">\n",
       "      <th></th>\n",
       "      <th>Actual_Value</th>\n",
       "      <th>Predict_Value</th>\n",
       "    </tr>\n",
       "  </thead>\n",
       "  <tbody>\n",
       "    <tr>\n",
       "      <td>29075</td>\n",
       "      <td>0</td>\n",
       "      <td>1</td>\n",
       "    </tr>\n",
       "    <tr>\n",
       "      <td>63109</td>\n",
       "      <td>1</td>\n",
       "      <td>1</td>\n",
       "    </tr>\n",
       "    <tr>\n",
       "      <td>7753</td>\n",
       "      <td>0</td>\n",
       "      <td>1</td>\n",
       "    </tr>\n",
       "    <tr>\n",
       "      <td>45972</td>\n",
       "      <td>1</td>\n",
       "      <td>1</td>\n",
       "    </tr>\n",
       "    <tr>\n",
       "      <td>32332</td>\n",
       "      <td>0</td>\n",
       "      <td>0</td>\n",
       "    </tr>\n",
       "    <tr>\n",
       "      <td>...</td>\n",
       "      <td>...</td>\n",
       "      <td>...</td>\n",
       "    </tr>\n",
       "    <tr>\n",
       "      <td>53749</td>\n",
       "      <td>0</td>\n",
       "      <td>0</td>\n",
       "    </tr>\n",
       "    <tr>\n",
       "      <td>54266</td>\n",
       "      <td>0</td>\n",
       "      <td>1</td>\n",
       "    </tr>\n",
       "    <tr>\n",
       "      <td>31967</td>\n",
       "      <td>0</td>\n",
       "      <td>1</td>\n",
       "    </tr>\n",
       "    <tr>\n",
       "      <td>47546</td>\n",
       "      <td>0</td>\n",
       "      <td>0</td>\n",
       "    </tr>\n",
       "    <tr>\n",
       "      <td>40934</td>\n",
       "      <td>0</td>\n",
       "      <td>1</td>\n",
       "    </tr>\n",
       "  </tbody>\n",
       "</table>\n",
       "<p>33000 rows × 2 columns</p>\n",
       "</div>"
      ],
      "text/plain": [
       "       Actual_Value  Predict_Value\n",
       "29075             0              1\n",
       "63109             1              1\n",
       "7753              0              1\n",
       "45972             1              1\n",
       "32332             0              0\n",
       "...             ...            ...\n",
       "53749             0              0\n",
       "54266             0              1\n",
       "31967             0              1\n",
       "47546             0              0\n",
       "40934             0              1\n",
       "\n",
       "[33000 rows x 2 columns]"
      ]
     },
     "execution_count": 19,
     "metadata": {},
     "output_type": "execute_result"
    }
   ],
   "source": [
    "table"
   ]
  },
  {
   "cell_type": "code",
   "execution_count": 20,
   "metadata": {},
   "outputs": [
    {
     "name": "stdout",
     "output_type": "stream",
     "text": [
      "False positive rate : 60.461445 %\n",
      "False negative rate : 16.164549 %\n"
     ]
    }
   ],
   "source": [
    "from sklearn.metrics import confusion_matrix\n",
    "CM = confusion_matrix(test_target, Result)\n",
    "print(\"False positive rate : %f %%\" % ((CM[0][1] / float(sum(CM[0])))*100))\n",
    "print('False negative rate : %f %%' % ( (CM[1][0] /float(sum(CM[1]))*100)))"
   ]
  },
  {
   "cell_type": "code",
   "execution_count": null,
   "metadata": {},
   "outputs": [],
   "source": []
  }
 ],
 "metadata": {
  "kernelspec": {
   "display_name": "Python 3",
   "language": "python",
   "name": "python3"
  },
  "language_info": {
   "codemirror_mode": {
    "name": "ipython",
    "version": 3
   },
   "file_extension": ".py",
   "mimetype": "text/x-python",
   "name": "python",
   "nbconvert_exporter": "python",
   "pygments_lexer": "ipython3",
   "version": "3.7.4"
  }
 },
 "nbformat": 4,
 "nbformat_minor": 2
}
