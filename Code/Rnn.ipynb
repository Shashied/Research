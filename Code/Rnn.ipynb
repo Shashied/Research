{
 "cells": [
  {
   "cell_type": "code",
   "execution_count": 1,
   "metadata": {},
   "outputs": [],
   "source": [
    "import pandas as pd\n",
    "import seaborn as sns\n",
    "from random import shuffle\n",
    "from sklearn.model_selection import train_test_split\n",
    "from sklearn.model_selection import cross_validate\n",
    "import numpy as np"
   ]
  },
  {
   "cell_type": "code",
   "execution_count": 2,
   "metadata": {},
   "outputs": [],
   "source": [
    "MalwareDataset = pd.read_csv(\"Malware_dataset.csv\") \n",
    "MalwareDataset=MalwareDataset.sample(frac=1)"
   ]
  },
  {
   "cell_type": "code",
   "execution_count": 3,
   "metadata": {},
   "outputs": [
    {
     "name": "stdout",
     "output_type": "stream",
     "text": [
      "(100000, 35)\n"
     ]
    }
   ],
   "source": [
    "print(MalwareDataset.shape)"
   ]
  },
  {
   "cell_type": "code",
   "execution_count": 4,
   "metadata": {},
   "outputs": [
    {
     "data": {
      "text/html": [
       "<div>\n",
       "<style scoped>\n",
       "    .dataframe tbody tr th:only-of-type {\n",
       "        vertical-align: middle;\n",
       "    }\n",
       "\n",
       "    .dataframe tbody tr th {\n",
       "        vertical-align: top;\n",
       "    }\n",
       "\n",
       "    .dataframe thead th {\n",
       "        text-align: right;\n",
       "    }\n",
       "</style>\n",
       "<table border=\"1\" class=\"dataframe\">\n",
       "  <thead>\n",
       "    <tr style=\"text-align: right;\">\n",
       "      <th></th>\n",
       "      <th>hash</th>\n",
       "      <th>millisecond</th>\n",
       "      <th>classification</th>\n",
       "      <th>state</th>\n",
       "      <th>usage_counter</th>\n",
       "      <th>prio</th>\n",
       "      <th>static_prio</th>\n",
       "      <th>normal_prio</th>\n",
       "      <th>policy</th>\n",
       "      <th>vm_pgoff</th>\n",
       "      <th>...</th>\n",
       "      <th>nivcsw</th>\n",
       "      <th>min_flt</th>\n",
       "      <th>maj_flt</th>\n",
       "      <th>fs_excl_counter</th>\n",
       "      <th>lock</th>\n",
       "      <th>utime</th>\n",
       "      <th>stime</th>\n",
       "      <th>gtime</th>\n",
       "      <th>cgtime</th>\n",
       "      <th>signal_nvcsw</th>\n",
       "    </tr>\n",
       "  </thead>\n",
       "  <tbody>\n",
       "    <tr>\n",
       "      <td>69589</td>\n",
       "      <td>7ea81b362027866c147218ffa657a1ccc59d677f540bb0...</td>\n",
       "      <td>589</td>\n",
       "      <td>malware</td>\n",
       "      <td>0</td>\n",
       "      <td>0</td>\n",
       "      <td>3069997056</td>\n",
       "      <td>22191</td>\n",
       "      <td>0</td>\n",
       "      <td>0</td>\n",
       "      <td>0</td>\n",
       "      <td>...</td>\n",
       "      <td>28</td>\n",
       "      <td>0</td>\n",
       "      <td>114</td>\n",
       "      <td>1</td>\n",
       "      <td>3204448256</td>\n",
       "      <td>395734</td>\n",
       "      <td>5</td>\n",
       "      <td>1</td>\n",
       "      <td>0</td>\n",
       "      <td>0</td>\n",
       "    </tr>\n",
       "    <tr>\n",
       "      <td>21388</td>\n",
       "      <td>com.ezmusicplayer.demo.apk</td>\n",
       "      <td>388</td>\n",
       "      <td>benign</td>\n",
       "      <td>180224</td>\n",
       "      <td>0</td>\n",
       "      <td>3069685760</td>\n",
       "      <td>15950</td>\n",
       "      <td>0</td>\n",
       "      <td>0</td>\n",
       "      <td>0</td>\n",
       "      <td>...</td>\n",
       "      <td>69</td>\n",
       "      <td>0</td>\n",
       "      <td>120</td>\n",
       "      <td>3</td>\n",
       "      <td>3204448256</td>\n",
       "      <td>386603</td>\n",
       "      <td>5</td>\n",
       "      <td>7</td>\n",
       "      <td>0</td>\n",
       "      <td>0</td>\n",
       "    </tr>\n",
       "    <tr>\n",
       "      <td>82876</td>\n",
       "      <td>368342ac090a20c9eaa3e4c40f701ee19aabb9fb1177c6...</td>\n",
       "      <td>876</td>\n",
       "      <td>malware</td>\n",
       "      <td>4096</td>\n",
       "      <td>0</td>\n",
       "      <td>3069202432</td>\n",
       "      <td>13989</td>\n",
       "      <td>0</td>\n",
       "      <td>0</td>\n",
       "      <td>0</td>\n",
       "      <td>...</td>\n",
       "      <td>2</td>\n",
       "      <td>1</td>\n",
       "      <td>120</td>\n",
       "      <td>0</td>\n",
       "      <td>3204448256</td>\n",
       "      <td>371993</td>\n",
       "      <td>3</td>\n",
       "      <td>0</td>\n",
       "      <td>0</td>\n",
       "      <td>0</td>\n",
       "    </tr>\n",
       "    <tr>\n",
       "      <td>68118</td>\n",
       "      <td>7590e4a832b9a17bdea9904cc84d8d132ce8b218b7e7e4...</td>\n",
       "      <td>118</td>\n",
       "      <td>malware</td>\n",
       "      <td>0</td>\n",
       "      <td>0</td>\n",
       "      <td>3070185472</td>\n",
       "      <td>14286</td>\n",
       "      <td>0</td>\n",
       "      <td>0</td>\n",
       "      <td>0</td>\n",
       "      <td>...</td>\n",
       "      <td>0</td>\n",
       "      <td>1</td>\n",
       "      <td>120</td>\n",
       "      <td>0</td>\n",
       "      <td>3204448256</td>\n",
       "      <td>372398</td>\n",
       "      <td>3</td>\n",
       "      <td>0</td>\n",
       "      <td>0</td>\n",
       "      <td>0</td>\n",
       "    </tr>\n",
       "    <tr>\n",
       "      <td>55772</td>\n",
       "      <td>DOCECG2.doctor.apk</td>\n",
       "      <td>772</td>\n",
       "      <td>benign</td>\n",
       "      <td>0</td>\n",
       "      <td>0</td>\n",
       "      <td>3069423616</td>\n",
       "      <td>30531</td>\n",
       "      <td>0</td>\n",
       "      <td>0</td>\n",
       "      <td>0</td>\n",
       "      <td>...</td>\n",
       "      <td>12</td>\n",
       "      <td>1</td>\n",
       "      <td>114</td>\n",
       "      <td>0</td>\n",
       "      <td>3204448256</td>\n",
       "      <td>409242</td>\n",
       "      <td>5</td>\n",
       "      <td>0</td>\n",
       "      <td>0</td>\n",
       "      <td>0</td>\n",
       "    </tr>\n",
       "  </tbody>\n",
       "</table>\n",
       "<p>5 rows × 35 columns</p>\n",
       "</div>"
      ],
      "text/plain": [
       "                                                    hash  millisecond  \\\n",
       "69589  7ea81b362027866c147218ffa657a1ccc59d677f540bb0...          589   \n",
       "21388                         com.ezmusicplayer.demo.apk          388   \n",
       "82876  368342ac090a20c9eaa3e4c40f701ee19aabb9fb1177c6...          876   \n",
       "68118  7590e4a832b9a17bdea9904cc84d8d132ce8b218b7e7e4...          118   \n",
       "55772                                 DOCECG2.doctor.apk          772   \n",
       "\n",
       "      classification   state  usage_counter        prio  static_prio  \\\n",
       "69589        malware       0              0  3069997056        22191   \n",
       "21388         benign  180224              0  3069685760        15950   \n",
       "82876        malware    4096              0  3069202432        13989   \n",
       "68118        malware       0              0  3070185472        14286   \n",
       "55772         benign       0              0  3069423616        30531   \n",
       "\n",
       "       normal_prio  policy  vm_pgoff  ...  nivcsw  min_flt  maj_flt  \\\n",
       "69589            0       0         0  ...      28        0      114   \n",
       "21388            0       0         0  ...      69        0      120   \n",
       "82876            0       0         0  ...       2        1      120   \n",
       "68118            0       0         0  ...       0        1      120   \n",
       "55772            0       0         0  ...      12        1      114   \n",
       "\n",
       "       fs_excl_counter        lock   utime  stime  gtime  cgtime  signal_nvcsw  \n",
       "69589                1  3204448256  395734      5      1       0             0  \n",
       "21388                3  3204448256  386603      5      7       0             0  \n",
       "82876                0  3204448256  371993      3      0       0             0  \n",
       "68118                0  3204448256  372398      3      0       0             0  \n",
       "55772                0  3204448256  409242      5      0       0             0  \n",
       "\n",
       "[5 rows x 35 columns]"
      ]
     },
     "execution_count": 4,
     "metadata": {},
     "output_type": "execute_result"
    }
   ],
   "source": [
    "MalwareDataset.head()"
   ]
  },
  {
   "cell_type": "code",
   "execution_count": 5,
   "metadata": {},
   "outputs": [
    {
     "name": "stdout",
     "output_type": "stream",
     "text": [
      "Index(['hash', 'millisecond', 'classification', 'state', 'usage_counter',\n",
      "       'prio', 'static_prio', 'normal_prio', 'policy', 'vm_pgoff',\n",
      "       'vm_truncate_count', 'task_size', 'cached_hole_size', 'free_area_cache',\n",
      "       'mm_users', 'map_count', 'hiwater_rss', 'total_vm', 'shared_vm',\n",
      "       'exec_vm', 'reserved_vm', 'nr_ptes', 'end_data', 'last_interval',\n",
      "       'nvcsw', 'nivcsw', 'min_flt', 'maj_flt', 'fs_excl_counter', 'lock',\n",
      "       'utime', 'stime', 'gtime', 'cgtime', 'signal_nvcsw'],\n",
      "      dtype='object')\n"
     ]
    }
   ],
   "source": [
    "malware=print(MalwareDataset.columns)"
   ]
  },
  {
   "cell_type": "code",
   "execution_count": 6,
   "metadata": {},
   "outputs": [],
   "source": [
    "data=MalwareDataset.drop([\"hash\",\"classification\"], axis=1)"
   ]
  },
  {
   "cell_type": "code",
   "execution_count": 7,
   "metadata": {},
   "outputs": [
    {
     "name": "stdout",
     "output_type": "stream",
     "text": [
      "Index(['millisecond', 'state', 'usage_counter', 'prio', 'static_prio',\n",
      "       'normal_prio', 'policy', 'vm_pgoff', 'vm_truncate_count', 'task_size',\n",
      "       'cached_hole_size', 'free_area_cache', 'mm_users', 'map_count',\n",
      "       'hiwater_rss', 'total_vm', 'shared_vm', 'exec_vm', 'reserved_vm',\n",
      "       'nr_ptes', 'end_data', 'last_interval', 'nvcsw', 'nivcsw', 'min_flt',\n",
      "       'maj_flt', 'fs_excl_counter', 'lock', 'utime', 'stime', 'gtime',\n",
      "       'cgtime', 'signal_nvcsw'],\n",
      "      dtype='object')\n"
     ]
    }
   ],
   "source": [
    "print(data.columns)"
   ]
  },
  {
   "cell_type": "code",
   "execution_count": 8,
   "metadata": {},
   "outputs": [],
   "source": [
    "target=MalwareDataset.drop(['hash', 'millisecond', 'state', 'usage_counter', 'prio', 'static_prio',\n",
    "       'normal_prio', 'policy', 'vm_pgoff', 'vm_truncate_count', 'task_size',\n",
    "       'cached_hole_size', 'free_area_cache', 'mm_users', 'map_count',\n",
    "       'hiwater_rss', 'total_vm', 'shared_vm', 'exec_vm', 'reserved_vm',\n",
    "       'nr_ptes', 'end_data', 'last_interval', 'nvcsw', 'nivcsw', 'min_flt',\n",
    "       'maj_flt', 'fs_excl_counter', 'lock', 'utime', 'stime', 'gtime',\n",
    "       'cgtime', 'signal_nvcsw'], axis=1)"
   ]
  },
  {
   "cell_type": "code",
   "execution_count": 9,
   "metadata": {},
   "outputs": [
    {
     "name": "stdout",
     "output_type": "stream",
     "text": [
      "(100000, 1)\n",
      "Index(['classification'], dtype='object')\n"
     ]
    }
   ],
   "source": [
    "print(target.shape)\n",
    "print(target.columns)"
   ]
  },
  {
   "cell_type": "code",
   "execution_count": 10,
   "metadata": {},
   "outputs": [
    {
     "data": {
      "text/html": [
       "<div>\n",
       "<style scoped>\n",
       "    .dataframe tbody tr th:only-of-type {\n",
       "        vertical-align: middle;\n",
       "    }\n",
       "\n",
       "    .dataframe tbody tr th {\n",
       "        vertical-align: top;\n",
       "    }\n",
       "\n",
       "    .dataframe thead th {\n",
       "        text-align: right;\n",
       "    }\n",
       "</style>\n",
       "<table border=\"1\" class=\"dataframe\">\n",
       "  <thead>\n",
       "    <tr style=\"text-align: right;\">\n",
       "      <th></th>\n",
       "      <th>classification</th>\n",
       "    </tr>\n",
       "  </thead>\n",
       "  <tbody>\n",
       "    <tr>\n",
       "      <td>69589</td>\n",
       "      <td>malware</td>\n",
       "    </tr>\n",
       "    <tr>\n",
       "      <td>21388</td>\n",
       "      <td>benign</td>\n",
       "    </tr>\n",
       "    <tr>\n",
       "      <td>82876</td>\n",
       "      <td>malware</td>\n",
       "    </tr>\n",
       "    <tr>\n",
       "      <td>68118</td>\n",
       "      <td>malware</td>\n",
       "    </tr>\n",
       "    <tr>\n",
       "      <td>55772</td>\n",
       "      <td>benign</td>\n",
       "    </tr>\n",
       "  </tbody>\n",
       "</table>\n",
       "</div>"
      ],
      "text/plain": [
       "      classification\n",
       "69589        malware\n",
       "21388         benign\n",
       "82876        malware\n",
       "68118        malware\n",
       "55772         benign"
      ]
     },
     "execution_count": 10,
     "metadata": {},
     "output_type": "execute_result"
    }
   ],
   "source": [
    "target.head()"
   ]
  },
  {
   "cell_type": "code",
   "execution_count": 11,
   "metadata": {},
   "outputs": [],
   "source": [
    "target=target.classification.map({'benign':0, 'malware':1})"
   ]
  },
  {
   "cell_type": "code",
   "execution_count": 12,
   "metadata": {},
   "outputs": [
    {
     "data": {
      "text/plain": [
       "69589    1\n",
       "21388    0\n",
       "82876    1\n",
       "68118    1\n",
       "55772    0\n",
       "Name: classification, dtype: int64"
      ]
     },
     "execution_count": 12,
     "metadata": {},
     "output_type": "execute_result"
    }
   ],
   "source": [
    "target.head()"
   ]
  },
  {
   "cell_type": "code",
   "execution_count": 13,
   "metadata": {},
   "outputs": [
    {
     "name": "stdout",
     "output_type": "stream",
     "text": [
      "(100000, 33, 1)\n"
     ]
    }
   ],
   "source": [
    "import numpy as np\n",
    "data=np.array(data)\n",
    "target=np.array(target)\n",
    "\n",
    "data= data.reshape(data.shape[0],data.shape[1],1)\n",
    "print(data.shape)"
   ]
  },
  {
   "cell_type": "code",
   "execution_count": 14,
   "metadata": {},
   "outputs": [],
   "source": [
    "train_data,test_data,train_target,test_target=train_test_split(data,target,test_size=0.33)"
   ]
  },
  {
   "cell_type": "code",
   "execution_count": 15,
   "metadata": {},
   "outputs": [
    {
     "name": "stderr",
     "output_type": "stream",
     "text": [
      "Using TensorFlow backend.\n"
     ]
    }
   ],
   "source": [
    "from keras.models import Sequential\n",
    "from keras.layers import LSTM,Dense,Dropout\n",
    "\n",
    "model=Sequential()\n",
    "model.add(LSTM(units=96,return_sequences=True,input_shape=(train_data.shape[1:])))\n",
    "model.add(Dropout(0.2))\n",
    "model.add(LSTM(units=96,return_sequences=True))\n",
    "\n",
    "model.add(LSTM(units=96,return_sequences=True,input_shape=(train_data.shape[1:])))\n",
    "model.add(Dropout(0.2))\n",
    "model.add(LSTM(units=96,return_sequences=False))\n",
    "\n",
    "model.add(Dense(1,activation='linear')) #Regression Linear activation\n",
    "\n",
    "model.compile(loss='mse',optimizer='adam',metrics=['accuracy'])\n",
    "\n",
    "          "
   ]
  },
  {
   "cell_type": "code",
   "execution_count": 16,
   "metadata": {},
   "outputs": [
    {
     "name": "stdout",
     "output_type": "stream",
     "text": [
      "Model: \"sequential_1\"\n",
      "_________________________________________________________________\n",
      "Layer (type)                 Output Shape              Param #   \n",
      "=================================================================\n",
      "lstm_1 (LSTM)                (None, 33, 96)            37632     \n",
      "_________________________________________________________________\n",
      "dropout_1 (Dropout)          (None, 33, 96)            0         \n",
      "_________________________________________________________________\n",
      "lstm_2 (LSTM)                (None, 33, 96)            74112     \n",
      "_________________________________________________________________\n",
      "lstm_3 (LSTM)                (None, 33, 96)            74112     \n",
      "_________________________________________________________________\n",
      "dropout_2 (Dropout)          (None, 33, 96)            0         \n",
      "_________________________________________________________________\n",
      "lstm_4 (LSTM)                (None, 96)                74112     \n",
      "_________________________________________________________________\n",
      "dense_1 (Dense)              (None, 1)                 97        \n",
      "=================================================================\n",
      "Total params: 260,065\n",
      "Trainable params: 260,065\n",
      "Non-trainable params: 0\n",
      "_________________________________________________________________\n"
     ]
    }
   ],
   "source": [
    "model.summary()"
   ]
  },
  {
   "cell_type": "code",
   "execution_count": 17,
   "metadata": {},
   "outputs": [
    {
     "name": "stdout",
     "output_type": "stream",
     "text": [
      "Train on 53600 samples, validate on 13400 samples\n",
      "Epoch 1/7\n",
      "53600/53600 [==============================] - 213s 4ms/step - loss: 0.1247 - accuracy: 0.8269 - val_loss: 0.0864 - val_accuracy: 0.8779\n",
      "Epoch 2/7\n",
      "53600/53600 [==============================] - 207s 4ms/step - loss: 0.0466 - accuracy: 0.9399 - val_loss: 0.0471 - val_accuracy: 0.9302\n",
      "Epoch 3/7\n",
      "53600/53600 [==============================] - 205s 4ms/step - loss: 0.0214 - accuracy: 0.9731 - val_loss: 0.0309 - val_accuracy: 0.9664\n",
      "Epoch 4/7\n",
      "53600/53600 [==============================] - 201s 4ms/step - loss: 0.0164 - accuracy: 0.9806 - val_loss: 0.0061 - val_accuracy: 0.9934\n",
      "Epoch 5/7\n",
      "53600/53600 [==============================] - 201s 4ms/step - loss: 0.0121 - accuracy: 0.9854 - val_loss: 0.0060 - val_accuracy: 0.9937\n",
      "Epoch 6/7\n",
      "53600/53600 [==============================] - 1451s 27ms/step - loss: 0.0107 - accuracy: 0.9874 - val_loss: 0.0071 - val_accuracy: 0.9908\n",
      "Epoch 7/7\n",
      "53600/53600 [==============================] - 219s 4ms/step - loss: 0.0111 - accuracy: 0.9870 - val_loss: 0.0017 - val_accuracy: 0.9982\n"
     ]
    }
   ],
   "source": [
    "history=model.fit(train_data,train_target,epochs=7,validation_split=0.2)"
   ]
  },
  {
   "cell_type": "code",
   "execution_count": 18,
   "metadata": {},
   "outputs": [
    {
     "data": {
      "text/plain": [
       "[<matplotlib.lines.Line2D at 0x10c3ef51408>]"
      ]
     },
     "execution_count": 18,
     "metadata": {},
     "output_type": "execute_result"
    },
    {
     "data": {
      "image/png": "[encoded data removed]",
      "text/plain": [
       "<Figure size 432x288 with 1 Axes>"
      ]
     },
     "metadata": {
      "needs_background": "light"
     },
     "output_type": "display_data"
    }
   ],
   "source": [
    "from matplotlib import pyplot as plt\n",
    "\n",
    "plt.plot(history.history['loss'],'b')\n",
    "plt.plot(history.history['val_loss'],'r')"
   ]
  },
  {
   "cell_type": "code",
   "execution_count": 19,
   "metadata": {},
   "outputs": [
    {
     "data": {
      "text/plain": [
       "<matplotlib.legend.Legend at 0x10c4460ce48>"
      ]
     },
     "execution_count": 19,
     "metadata": {},
     "output_type": "execute_result"
    },
    {
     "data": {
      "image/png": "[encoded data removed]",
      "text/plain": [
       "<Figure size 432x288 with 1 Axes>"
      ]
     },
     "metadata": {
      "needs_background": "light"
     },
     "output_type": "display_data"
    }
   ],
   "source": [
    "plt.plot(history.history['accuracy'],'b',label=\"accuracy\")\n",
    "plt.plot(history.history['val_accuracy'],'r',label=\"val_accuracu\")\n",
    "plt.xlabel('Number of epochs')\n",
    "plt.ylabel('Acuracy')\n",
    "plt.title('Accuracy')\n",
    "plt.legend()\n",
    "#if not working replace 'accuracy' with 'acc'"
   ]
  },
  {
   "cell_type": "code",
   "execution_count": 20,
   "metadata": {},
   "outputs": [],
   "source": [
    "#Testing the model\n",
    "Result=model.predict(test_data)"
   ]
  },
  {
   "cell_type": "code",
   "execution_count": 21,
   "metadata": {},
   "outputs": [
    {
     "name": "stdout",
     "output_type": "stream",
     "text": [
      "R2_score: 0.9922486254738624\n"
     ]
    }
   ],
   "source": [
    "from sklearn.metrics import r2_score\n",
    "r2=r2_score(test_target,Result)\n",
    "print('R2_score:',r2)"
   ]
  }
 ],
 "metadata": {
  "kernelspec": {
   "display_name": "Python 3",
   "language": "python",
   "name": "python3"
  },
  "language_info": {
   "codemirror_mode": {
    "name": "ipython",
    "version": 3
   },
   "file_extension": ".py",
   "mimetype": "text/x-python",
   "name": "python",
   "nbconvert_exporter": "python",
   "pygments_lexer": "ipython3",
   "version": "3.7.4"
  }
 },
 "nbformat": 4,
 "nbformat_minor": 2
}
